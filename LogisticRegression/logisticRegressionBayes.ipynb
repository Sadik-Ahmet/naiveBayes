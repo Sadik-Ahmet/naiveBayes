{
  "metadata": {
    "kernelspec": {
      "name": "python",
      "display_name": "Python (Pyodide)",
      "language": "python"
    },
    "language_info": {
      "codemirror_mode": {
        "name": "python",
        "version": 3
      },
      "file_extension": ".py",
      "mimetype": "text/x-python",
      "name": "python",
      "nbconvert_exporter": "python",
      "pygments_lexer": "ipython3",
      "version": "3.8"
    }
  },
  "nbformat_minor": 5,
  "nbformat": 4,
  "cells": [
    {
      "id": "4cf96247",
      "cell_type": "code",
      "source": "import pandas as pd\nimport numpy as np\nfrom sklearn.model_selection import train_test_split",
      "metadata": {
        "trusted": true
      },
      "outputs": [],
      "execution_count": 1
    },
    {
      "id": "05e449cf",
      "cell_type": "code",
      "source": "df = pd.read_csv(\"diabetes.csv\")",
      "metadata": {
        "trusted": true
      },
      "outputs": [],
      "execution_count": 2
    },
    {
      "id": "3514f5b9",
      "cell_type": "code",
      "source": "type(df)",
      "metadata": {
        "trusted": true
      },
      "outputs": [
        {
          "execution_count": 3,
          "output_type": "execute_result",
          "data": {
            "text/plain": "pandas.core.frame.DataFrame"
          },
          "metadata": {}
        }
      ],
      "execution_count": 3
    },
    {
      "id": "94c9ebac",
      "cell_type": "code",
      "source": "df.shape",
      "metadata": {
        "trusted": true
      },
      "outputs": [
        {
          "execution_count": 4,
          "output_type": "execute_result",
          "data": {
            "text/plain": "(768, 9)"
          },
          "metadata": {}
        }
      ],
      "execution_count": 4
    },
    {
      "id": "06eab019",
      "cell_type": "code",
      "source": "X = df.drop(columns = [\"Outcome\"])\ny = df[\"Outcome\"]",
      "metadata": {
        "trusted": true
      },
      "outputs": [],
      "execution_count": 5
    },
    {
      "id": "8e7ed820",
      "cell_type": "code",
      "source": "X_train, X_test, y_train, y_test = train_test_split(X, y, test_size = 0.2 , random_state = 42, stratify = y)",
      "metadata": {
        "trusted": true
      },
      "outputs": [],
      "execution_count": 6
    },
    {
      "id": "f7339b3a",
      "cell_type": "code",
      "source": "X_train_bias = np.c_[np.ones(X_train.shape[0]), X_train] ",
      "metadata": {
        "trusted": true
      },
      "outputs": [],
      "execution_count": 7
    },
    {
      "id": "a9702422",
      "cell_type": "code",
      "source": "X_train_bias.shape",
      "metadata": {
        "trusted": true
      },
      "outputs": [
        {
          "execution_count": 8,
          "output_type": "execute_result",
          "data": {
            "text/plain": "(614, 9)"
          },
          "metadata": {}
        }
      ],
      "execution_count": 8
    },
    {
      "id": "91ba087a",
      "cell_type": "code",
      "source": "X_test_bias = np.c_[np.ones(X_test.shape[0]), X_test] ",
      "metadata": {
        "trusted": true
      },
      "outputs": [],
      "execution_count": 9
    },
    {
      "id": "f85e6d2b",
      "cell_type": "code",
      "source": "X_test_bias.shape",
      "metadata": {
        "trusted": true
      },
      "outputs": [
        {
          "execution_count": 10,
          "output_type": "execute_result",
          "data": {
            "text/plain": "(154, 9)"
          },
          "metadata": {}
        }
      ],
      "execution_count": 10
    },
    {
      "id": "e6bcd2d8",
      "cell_type": "code",
      "source": "y_train = y_train.to_numpy().reshape(-1,1)",
      "metadata": {
        "trusted": true
      },
      "outputs": [],
      "execution_count": 11
    },
    {
      "id": "6e1fa5ea",
      "cell_type": "code",
      "source": "y_train.shape",
      "metadata": {
        "trusted": true
      },
      "outputs": [
        {
          "execution_count": 12,
          "output_type": "execute_result",
          "data": {
            "text/plain": "(614, 1)"
          },
          "metadata": {}
        }
      ],
      "execution_count": 12
    },
    {
      "id": "6036e52b",
      "cell_type": "code",
      "source": "y_test = y_test.to_numpy().reshape(-1,1)",
      "metadata": {
        "trusted": true
      },
      "outputs": [],
      "execution_count": 13
    },
    {
      "id": "7a594700",
      "cell_type": "code",
      "source": "y_test.shape",
      "metadata": {
        "trusted": true
      },
      "outputs": [
        {
          "execution_count": 14,
          "output_type": "execute_result",
          "data": {
            "text/plain": "(154, 1)"
          },
          "metadata": {}
        }
      ],
      "execution_count": 14
    },
    {
      "id": "30222278",
      "cell_type": "code",
      "source": "weights_initial = np.random.randn(X_train_bias.shape[1]) * 0.01",
      "metadata": {
        "trusted": true
      },
      "outputs": [],
      "execution_count": 15
    },
    {
      "id": "3012913b",
      "cell_type": "code",
      "source": "weights_initial = weights_initial.reshape(-1,1)",
      "metadata": {
        "trusted": true
      },
      "outputs": [],
      "execution_count": 16
    },
    {
      "id": "968f6aca",
      "cell_type": "code",
      "source": "weights_initial.shape",
      "metadata": {
        "trusted": true
      },
      "outputs": [
        {
          "execution_count": 17,
          "output_type": "execute_result",
          "data": {
            "text/plain": "(9, 1)"
          },
          "metadata": {}
        }
      ],
      "execution_count": 17
    },
    {
      "id": "aea894f0",
      "cell_type": "code",
      "source": "def sigmoid(Z):\n    return 1 / (1 + np.exp(-1 * Z))",
      "metadata": {
        "trusted": true
      },
      "outputs": [],
      "execution_count": 18
    },
    {
      "id": "e6d97866",
      "cell_type": "code",
      "source": "def compute_cost(X, y, W):\n    Z = np.dot(X, W)\n    y_pred = sigmoid(Z)\n    cost = -1 * np.mean(y * np.log(y_pred) + (1 - y) * np.log(1- y_pred))\n    return cost",
      "metadata": {
        "trusted": true
      },
      "outputs": [],
      "execution_count": 19
    },
    {
      "id": "c54a431f",
      "cell_type": "code",
      "source": "def gradient_descent(X, y, W, learning_rate = 0.001, n_steps = 10000, print_cost = True):\n    m = X.shape[0]\n    for i in range(n_steps):\n        Z = np.dot(X, W)\n        y_pred = sigmoid(Z)\n        gradient = np.dot(X.T , y_pred - y) / m \n        W -= learning_rate * gradient\n        \n        if print_cost and i % 100 == 0:\n            print(f\"Cost is {compute_cost(X, y, W)}\")\n    \n    return W",
      "metadata": {
        "trusted": true
      },
      "outputs": [],
      "execution_count": 20
    },
    {
      "id": "21934b83",
      "cell_type": "code",
      "source": "weights_final = gradient_descent(X_train_bias, y_train, weights_initial, learning_rate = 0.0001, n_steps = 1000, print_cost = True)",
      "metadata": {
        "trusted": true
      },
      "outputs": [
        {
          "name": "stdout",
          "output_type": "stream",
          "text": "Cost is 0.6866145776419513\nCost is 0.625178048438498\nCost is 0.6182448966386416\nCost is 0.6164258380854698\nCost is 0.615642470519695\nCost is 0.6151748451595647\nCost is 0.6148466458431155\nCost is 0.6145955280285847\nCost is 0.6143916517076635\nCost is 0.6142182250777255\n"
        }
      ],
      "execution_count": 21
    },
    {
      "id": "52d253db",
      "cell_type": "code",
      "source": "weights_final",
      "metadata": {
        "trusted": true
      },
      "outputs": [
        {
          "execution_count": 22,
          "output_type": "execute_result",
          "data": {
            "text/plain": "array([[-0.01053496],\n       [ 0.04164765],\n       [ 0.01317974],\n       [-0.0298837 ],\n       [-0.0007371 ],\n       [ 0.00132393],\n       [-0.00377581],\n       [-0.00871535],\n       [-0.00366282]])"
          },
          "metadata": {}
        }
      ],
      "execution_count": 22
    },
    {
      "id": "c4778156",
      "cell_type": "code",
      "source": "y_pred_probs = sigmoid(np.dot(X_test_bias, weights_final))",
      "metadata": {
        "trusted": true
      },
      "outputs": [],
      "execution_count": 23
    },
    {
      "id": "64df5758",
      "cell_type": "code",
      "source": "y_pred_probs.shape",
      "metadata": {
        "trusted": true
      },
      "outputs": [
        {
          "execution_count": 24,
          "output_type": "execute_result",
          "data": {
            "text/plain": "(154, 1)"
          },
          "metadata": {}
        }
      ],
      "execution_count": 24
    },
    {
      "id": "2845d147",
      "cell_type": "code",
      "source": "y_pred_probs[:5]",
      "metadata": {
        "trusted": true
      },
      "outputs": [
        {
          "execution_count": 25,
          "output_type": "execute_result",
          "data": {
            "text/plain": "array([[0.5526759 ],\n       [0.10656995],\n       [0.35879854],\n       [0.41012701],\n       [0.72443932]])"
          },
          "metadata": {}
        }
      ],
      "execution_count": 25
    },
    {
      "id": "73d98f80",
      "cell_type": "code",
      "source": "y_preds = (y_pred_probs > 0.5).astype(int)",
      "metadata": {
        "trusted": true
      },
      "outputs": [],
      "execution_count": 26
    },
    {
      "id": "cedd05d9",
      "cell_type": "code",
      "source": "y_preds[:5]",
      "metadata": {
        "trusted": true
      },
      "outputs": [
        {
          "execution_count": 27,
          "output_type": "execute_result",
          "data": {
            "text/plain": "array([[1],\n       [0],\n       [0],\n       [0],\n       [1]])"
          },
          "metadata": {}
        }
      ],
      "execution_count": 27
    },
    {
      "id": "ba79e60c",
      "cell_type": "code",
      "source": "accuracy = np.mean(y_preds == y_test)",
      "metadata": {
        "trusted": true
      },
      "outputs": [],
      "execution_count": 28
    },
    {
      "id": "28e6221d",
      "cell_type": "code",
      "source": "accuracy",
      "metadata": {
        "trusted": true
      },
      "outputs": [
        {
          "execution_count": 29,
          "output_type": "execute_result",
          "data": {
            "text/plain": "np.float64(0.6558441558441559)"
          },
          "metadata": {}
        }
      ],
      "execution_count": 29
    },
    {
      "id": "2ab04df4",
      "cell_type": "code",
      "source": "weights_initial = np.random.randn(X_train_bias.shape[1]) * 0.01\nweights_initial = weights_initial.reshape(-1,1)\ny_pred_probs = sigmoid(np.dot(X_test_bias, weights_initial))\ny_preds = (y_pred_probs > 0.5).astype(int)\naccuracy = np.mean(y_preds == y_test)",
      "metadata": {
        "trusted": true
      },
      "outputs": [],
      "execution_count": 33
    },
    {
      "id": "019edca8",
      "cell_type": "code",
      "source": "accuracy",
      "metadata": {
        "trusted": true
      },
      "outputs": [
        {
          "execution_count": 32,
          "output_type": "execute_result",
          "data": {
            "text/plain": "np.float64(0.36363636363636365)"
          },
          "metadata": {}
        }
      ],
      "execution_count": 32
    },
    {
      "id": "5b861005-aaa6-4d57-aa15-eec456f641d5",
      "cell_type": "code",
      "source": "",
      "metadata": {
        "trusted": true
      },
      "outputs": [],
      "execution_count": null
    }
  ]
}