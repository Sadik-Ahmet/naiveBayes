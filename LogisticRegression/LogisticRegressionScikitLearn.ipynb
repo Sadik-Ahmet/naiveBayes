{
  "metadata": {
    "kernelspec": {
      "name": "python",
      "display_name": "Python (Pyodide)",
      "language": "python"
    },
    "language_info": {
      "codemirror_mode": {
        "name": "python",
        "version": 3
      },
      "file_extension": ".py",
      "mimetype": "text/x-python",
      "name": "python",
      "nbconvert_exporter": "python",
      "pygments_lexer": "ipython3",
      "version": "3.8"
    }
  },
  "nbformat_minor": 5,
  "nbformat": 4,
  "cells": [
    {
      "id": "722685fd-2a57-414c-9255-d671a3ecebee",
      "cell_type": "code",
      "source": "# 1. Gerekli Kütüphaneleri Yükleyelim\nimport pandas as pd\nimport numpy as np\nimport matplotlib.pyplot as plt\nfrom sklearn.model_selection import train_test_split\nfrom sklearn.preprocessing import StandardScaler\nfrom sklearn.linear_model import LogisticRegression\nfrom sklearn.metrics import confusion_matrix, classification_report, accuracy_score\nimport time\n",
      "metadata": {
        "trusted": true
      },
      "outputs": [],
      "execution_count": 14
    },
    {
      "id": "943a2820-f5ec-4ed8-ac23-9eef4a1991be",
      "cell_type": "code",
      "source": "# 2. Veriyi Yükleyelim\n# Kaggle'dan indirilen diabetes.csv dosyasını yükleyelim\n\ndf = pd.read_csv('diabetes.csv')\n\n# Verinin ilk 5 satırını inceleyelim\ndf.head()\n",
      "metadata": {
        "trusted": true
      },
      "outputs": [
        {
          "execution_count": 15,
          "output_type": "execute_result",
          "data": {
            "text/plain": "   Pregnancies  Glucose  BloodPressure  SkinThickness  Insulin   BMI  \\\n0            6      148             72             35        0  33.6   \n1            1       85             66             29        0  26.6   \n2            8      183             64              0        0  23.3   \n3            1       89             66             23       94  28.1   \n4            0      137             40             35      168  43.1   \n\n   DiabetesPedigreeFunction  Age  Outcome  \n0                     0.627   50        1  \n1                     0.351   31        0  \n2                     0.672   32        1  \n3                     0.167   21        0  \n4                     2.288   33        1  ",
            "text/html": "<div>\n<style scoped>\n    .dataframe tbody tr th:only-of-type {\n        vertical-align: middle;\n    }\n\n    .dataframe tbody tr th {\n        vertical-align: top;\n    }\n\n    .dataframe thead th {\n        text-align: right;\n    }\n</style>\n<table border=\"1\" class=\"dataframe\">\n  <thead>\n    <tr style=\"text-align: right;\">\n      <th></th>\n      <th>Pregnancies</th>\n      <th>Glucose</th>\n      <th>BloodPressure</th>\n      <th>SkinThickness</th>\n      <th>Insulin</th>\n      <th>BMI</th>\n      <th>DiabetesPedigreeFunction</th>\n      <th>Age</th>\n      <th>Outcome</th>\n    </tr>\n  </thead>\n  <tbody>\n    <tr>\n      <th>0</th>\n      <td>6</td>\n      <td>148</td>\n      <td>72</td>\n      <td>35</td>\n      <td>0</td>\n      <td>33.6</td>\n      <td>0.627</td>\n      <td>50</td>\n      <td>1</td>\n    </tr>\n    <tr>\n      <th>1</th>\n      <td>1</td>\n      <td>85</td>\n      <td>66</td>\n      <td>29</td>\n      <td>0</td>\n      <td>26.6</td>\n      <td>0.351</td>\n      <td>31</td>\n      <td>0</td>\n    </tr>\n    <tr>\n      <th>2</th>\n      <td>8</td>\n      <td>183</td>\n      <td>64</td>\n      <td>0</td>\n      <td>0</td>\n      <td>23.3</td>\n      <td>0.672</td>\n      <td>32</td>\n      <td>1</td>\n    </tr>\n    <tr>\n      <th>3</th>\n      <td>1</td>\n      <td>89</td>\n      <td>66</td>\n      <td>23</td>\n      <td>94</td>\n      <td>28.1</td>\n      <td>0.167</td>\n      <td>21</td>\n      <td>0</td>\n    </tr>\n    <tr>\n      <th>4</th>\n      <td>0</td>\n      <td>137</td>\n      <td>40</td>\n      <td>35</td>\n      <td>168</td>\n      <td>43.1</td>\n      <td>2.288</td>\n      <td>33</td>\n      <td>1</td>\n    </tr>\n  </tbody>\n</table>\n</div>"
          },
          "metadata": {}
        }
      ],
      "execution_count": 15
    },
    {
      "id": "679684cc-defd-4769-8c9e-3d96fa8d7fd1",
      "cell_type": "code",
      "source": "# 3. Veri Ön İşleme\n# Eksik verileri kontrol edelim\ndf.isnull().sum()\n\n# Özellikler (X) ve hedef değişkeni (y) ayıralım\nX = df.drop(columns='Outcome')  # Özellikler (features)\ny = df['Outcome']  # Hedef değişken (target)\n\n# Veri setinin sınıf dağılımını inceleyelim\ny.value_counts()\n",
      "metadata": {
        "trusted": true
      },
      "outputs": [
        {
          "execution_count": 16,
          "output_type": "execute_result",
          "data": {
            "text/plain": "Outcome\n0    500\n1    268\nName: count, dtype: int64"
          },
          "metadata": {}
        }
      ],
      "execution_count": 16
    },
    {
      "id": "344233be-e8a0-49de-9288-8f15f21bcaab",
      "cell_type": "code",
      "source": "# 4. Eğitim ve Test Verisine Ayırma\n# Veriyi eğitim ve test setlerine ayıralım (test oranı %30)\nX_train, X_test, y_train, y_test = train_test_split(X, y, test_size=0.3, random_state=42)\n\n# Özellikleri standardize edelim (veriyi ölçeklendirelim)\nscaler = StandardScaler()\nX_train_scaled = scaler.fit_transform(X_train)\nX_test_scaled = scaler.transform(X_test)\n",
      "metadata": {
        "trusted": true
      },
      "outputs": [],
      "execution_count": 17
    },
    {
      "id": "e1f0b0a2-7026-4fb7-a9df-3d42198b9a36",
      "cell_type": "code",
      "source": "# 5. Logistic Regression Modeli Eğitimi\n# Logistic Regression modelini oluşturup eğitelim\nlogreg = LogisticRegression(max_iter=1000)\n\n# Eğitim süresi ölçelim\nstart_time = time.time()\nlogreg.fit(X_train_scaled, y_train)\nend_time = time.time()\n\n# Eğitim süresi\ntraining_time = end_time - start_time\nprint(f\"Model eğitimi süresi: {training_time:.4f} saniye\")\n",
      "metadata": {
        "trusted": true
      },
      "outputs": [
        {
          "name": "stdout",
          "output_type": "stream",
          "text": "Model eğitimi süresi: 0.0030 saniye\n"
        }
      ],
      "execution_count": 18
    },
    {
      "id": "9c7ca57f-999b-46e9-b698-c86d1e27e0f6",
      "cell_type": "code",
      "source": "# 6. Model ile Tahmin Yapma\n# Test verisi üzerinde tahmin yapalım\ny_pred = logreg.predict(X_test_scaled)\n\n# Tahmin süresi\nprediction_time = time.time() - end_time\nprint(f\"Model tahmin süresi: {prediction_time:.4f} saniye\")\n",
      "metadata": {
        "trusted": true
      },
      "outputs": [
        {
          "name": "stdout",
          "output_type": "stream",
          "text": "Model tahmin süresi: 9.9860 saniye\n"
        }
      ],
      "execution_count": 19
    },
    {
      "id": "cc9c4926-f21c-467b-a8b5-45d12d518d26",
      "cell_type": "code",
      "source": "# Test seti üzerinde tahmin yap\nstart_time = time.time()\n\ny_pred = model.predict(X_test)\n\n# Test süresi hesapla\ntest_time = time.time() - start_time\nprint(f\"Test süresi: {test_time:.4f} saniye\")\n",
      "metadata": {
        "trusted": true
      },
      "outputs": [
        {
          "name": "stdout",
          "output_type": "stream",
          "text": "Test süresi: 0.0020 saniye\n"
        }
      ],
      "execution_count": 12
    },
    {
      "id": "1c906a41-8ddc-47db-96a6-6342dd83490a",
      "cell_type": "code",
      "source": "# 7. Model Performansını Değerlendirme\n# Karmaşıklık Matrisi (Confusion Matrix)\ncm = confusion_matrix(y_test, y_pred)\nprint(\"Karmaşıklık Matrisi:\")\nprint(cm)\n\n# Sınıflandırma Raporu (Classification Report)\nprint(\"Sınıflandırma Raporu:\")\nprint(classification_report(y_test, y_pred))\n\n# Modelin doğruluğu (accuracy)\naccuracy = accuracy_score(y_test, y_pred)\nprint(f\"Model doğruluğu: {accuracy:.4f}\")\n",
      "metadata": {
        "trusted": true
      },
      "outputs": [
        {
          "name": "stdout",
          "output_type": "stream",
          "text": "Karmaşıklık Matrisi:\n[[120  31]\n [ 30  50]]\nSınıflandırma Raporu:\n              precision    recall  f1-score   support\n\n           0       0.80      0.79      0.80       151\n           1       0.62      0.62      0.62        80\n\n    accuracy                           0.74       231\n   macro avg       0.71      0.71      0.71       231\nweighted avg       0.74      0.74      0.74       231\n\nModel doğruluğu: 0.7359\n"
        }
      ],
      "execution_count": 20
    },
    {
      "id": "7390c4d6-86b1-479f-9842-233564cc9704",
      "cell_type": "code",
      "source": "# 8. Karmaşıklık Matrisi Görselleştirmesi\n# Karmaşıklık matrisini görselleştirelim\nfig, ax = plt.subplots(figsize=(6, 6))\nax.matshow(cm, cmap='Blues', alpha=0.6)\nfor (i, j), val in np.ndenumerate(cm):\n    ax.text(j, i, f'{val}', ha='center', va='center', color='red')\n\nplt.title('Karmaşıklık Matrisi')\nplt.xlabel('Tahmin Edilen')\nplt.ylabel('Gerçek')\nplt.show()\n",
      "metadata": {
        "trusted": true
      },
      "outputs": [
        {
          "output_type": "display_data",
          "data": {
            "text/plain": "<Figure size 600x600 with 1 Axes>",
            "image/png": "[encoded data removed]"
          },
          "metadata": {}
        }
      ],
      "execution_count": 21
    },
    {
      "id": "070406a3-ccd4-445f-a955-219183b6b74f",
      "cell_type": "code",
      "source": "",
      "metadata": {
        "trusted": true
      },
      "outputs": [],
      "execution_count": null
    }
  ]
}