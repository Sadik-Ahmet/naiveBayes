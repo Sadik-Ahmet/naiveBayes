{
  "metadata": {
    "kernelspec": {
      "name": "python",
      "display_name": "Python (Pyodide)",
      "language": "python"
    },
    "language_info": {
      "codemirror_mode": {
        "name": "python",
        "version": 3
      },
      "file_extension": ".py",
      "mimetype": "text/x-python",
      "name": "python",
      "nbconvert_exporter": "python",
      "pygments_lexer": "ipython3",
      "version": "3.8"
    }
  },
  "nbformat_minor": 5,
  "nbformat": 4,
  "cells": [
    {
      "id": "7aad18d2-0340-4fd4-b6b4-5107cd6f4bbb",
      "cell_type": "code",
      "source": "import pandas as pd\ndf = pd.read_csv('dataSet.csv')",
      "metadata": {
        "trusted": true
      },
      "outputs": [],
      "execution_count": 14
    },
    {
      "id": "7cedbb3d-4235-4b61-9541-f876f52d7609",
      "cell_type": "code",
      "source": "df.head()",
      "metadata": {
        "trusted": true
      },
      "outputs": [
        {
          "execution_count": 15,
          "output_type": "execute_result",
          "data": {
            "text/plain": "    User ID  Gender  Age  EstimatedSalary  Purchased\n0  15624510    Male   19            19000          0\n1  15810944    Male   35            20000          0\n2  15668575  Female   26            43000          0\n3  15603246  Female   27            57000          0\n4  15804002    Male   19            76000          0",
            "text/html": "<div>\n<style scoped>\n    .dataframe tbody tr th:only-of-type {\n        vertical-align: middle;\n    }\n\n    .dataframe tbody tr th {\n        vertical-align: top;\n    }\n\n    .dataframe thead th {\n        text-align: right;\n    }\n</style>\n<table border=\"1\" class=\"dataframe\">\n  <thead>\n    <tr style=\"text-align: right;\">\n      <th></th>\n      <th>User ID</th>\n      <th>Gender</th>\n      <th>Age</th>\n      <th>EstimatedSalary</th>\n      <th>Purchased</th>\n    </tr>\n  </thead>\n  <tbody>\n    <tr>\n      <th>0</th>\n      <td>15624510</td>\n      <td>Male</td>\n      <td>19</td>\n      <td>19000</td>\n      <td>0</td>\n    </tr>\n    <tr>\n      <th>1</th>\n      <td>15810944</td>\n      <td>Male</td>\n      <td>35</td>\n      <td>20000</td>\n      <td>0</td>\n    </tr>\n    <tr>\n      <th>2</th>\n      <td>15668575</td>\n      <td>Female</td>\n      <td>26</td>\n      <td>43000</td>\n      <td>0</td>\n    </tr>\n    <tr>\n      <th>3</th>\n      <td>15603246</td>\n      <td>Female</td>\n      <td>27</td>\n      <td>57000</td>\n      <td>0</td>\n    </tr>\n    <tr>\n      <th>4</th>\n      <td>15804002</td>\n      <td>Male</td>\n      <td>19</td>\n      <td>76000</td>\n      <td>0</td>\n    </tr>\n  </tbody>\n</table>\n</div>"
          },
          "metadata": {}
        }
      ],
      "execution_count": 15
    },
    {
      "id": "5a508edb-cbaf-47da-8293-70abb0bd4b73",
      "cell_type": "code",
      "source": "df.info()",
      "metadata": {
        "trusted": true
      },
      "outputs": [
        {
          "name": "stdout",
          "output_type": "stream",
          "text": "<class 'pandas.core.frame.DataFrame'>\nRangeIndex: 400 entries, 0 to 399\nData columns (total 5 columns):\n #   Column           Non-Null Count  Dtype \n---  ------           --------------  ----- \n 0   User ID          400 non-null    int64 \n 1   Gender           400 non-null    object\n 2   Age              400 non-null    int64 \n 3   EstimatedSalary  400 non-null    int64 \n 4   Purchased        400 non-null    int64 \ndtypes: int64(4), object(1)\nmemory usage: 14.1+ KB\n"
        }
      ],
      "execution_count": 16
    },
    {
      "id": "7e6c1637-c084-4d24-93cf-c53960594e4f",
      "cell_type": "code",
      "source": "print(df.isnull().sum())",
      "metadata": {
        "trusted": true
      },
      "outputs": [
        {
          "name": "stdout",
          "output_type": "stream",
          "text": "User ID            0\nGender             0\nAge                0\nEstimatedSalary    0\nPurchased          0\ndtype: int64\n"
        }
      ],
      "execution_count": 17
    },
    {
      "id": "0cee7dbe-c403-4058-9cc4-48fa836891bc",
      "cell_type": "code",
      "source": "df['Gender'] = df['Gender'].map({'Male': 0, 'Female': 1})",
      "metadata": {
        "trusted": true
      },
      "outputs": [],
      "execution_count": 18
    },
    {
      "id": "cad15077-3419-4886-b696-a8815577ad2b",
      "cell_type": "code",
      "source": "df.head()",
      "metadata": {
        "trusted": true
      },
      "outputs": [
        {
          "execution_count": 19,
          "output_type": "execute_result",
          "data": {
            "text/plain": "    User ID  Gender  Age  EstimatedSalary  Purchased\n0  15624510       0   19            19000          0\n1  15810944       0   35            20000          0\n2  15668575       1   26            43000          0\n3  15603246       1   27            57000          0\n4  15804002       0   19            76000          0",
            "text/html": "<div>\n<style scoped>\n    .dataframe tbody tr th:only-of-type {\n        vertical-align: middle;\n    }\n\n    .dataframe tbody tr th {\n        vertical-align: top;\n    }\n\n    .dataframe thead th {\n        text-align: right;\n    }\n</style>\n<table border=\"1\" class=\"dataframe\">\n  <thead>\n    <tr style=\"text-align: right;\">\n      <th></th>\n      <th>User ID</th>\n      <th>Gender</th>\n      <th>Age</th>\n      <th>EstimatedSalary</th>\n      <th>Purchased</th>\n    </tr>\n  </thead>\n  <tbody>\n    <tr>\n      <th>0</th>\n      <td>15624510</td>\n      <td>0</td>\n      <td>19</td>\n      <td>19000</td>\n      <td>0</td>\n    </tr>\n    <tr>\n      <th>1</th>\n      <td>15810944</td>\n      <td>0</td>\n      <td>35</td>\n      <td>20000</td>\n      <td>0</td>\n    </tr>\n    <tr>\n      <th>2</th>\n      <td>15668575</td>\n      <td>1</td>\n      <td>26</td>\n      <td>43000</td>\n      <td>0</td>\n    </tr>\n    <tr>\n      <th>3</th>\n      <td>15603246</td>\n      <td>1</td>\n      <td>27</td>\n      <td>57000</td>\n      <td>0</td>\n    </tr>\n    <tr>\n      <th>4</th>\n      <td>15804002</td>\n      <td>0</td>\n      <td>19</td>\n      <td>76000</td>\n      <td>0</td>\n    </tr>\n  </tbody>\n</table>\n</div>"
          },
          "metadata": {}
        }
      ],
      "execution_count": 19
    },
    {
      "id": "4fdf4c69-90ed-4425-b063-1208cba8917b",
      "cell_type": "code",
      "source": "df.info",
      "metadata": {
        "trusted": true
      },
      "outputs": [
        {
          "execution_count": 20,
          "output_type": "execute_result",
          "data": {
            "text/plain": "<bound method DataFrame.info of       User ID  Gender  Age  EstimatedSalary  Purchased\n0    15624510       0   19            19000          0\n1    15810944       0   35            20000          0\n2    15668575       1   26            43000          0\n3    15603246       1   27            57000          0\n4    15804002       0   19            76000          0\n..        ...     ...  ...              ...        ...\n395  15691863       1   46            41000          1\n396  15706071       0   51            23000          1\n397  15654296       1   50            20000          1\n398  15755018       0   36            33000          0\n399  15594041       1   49            36000          1\n\n[400 rows x 5 columns]>"
          },
          "metadata": {}
        }
      ],
      "execution_count": 20
    },
    {
      "id": "100d2559-89fa-409a-83db-be44cfb77d96",
      "cell_type": "code",
      "source": "X = df[['Age', 'EstimatedSalary']].values\ny = df['Purchased'].values",
      "metadata": {
        "trusted": true
      },
      "outputs": [],
      "execution_count": 21
    },
    {
      "id": "3f1b6c83-c305-4e08-8f5d-4a100d24f41c",
      "cell_type": "code",
      "source": "import numpy as np\n\nclass NaiveBayesCustom:\n    def fit(self, X, y):\n        self.classes = np.unique(y)  # Sınıflar (0 ve 1)\n        self.class_probs = {}  # Her sınıfın olasılığı\n        self.feature_stats = {}  # Her sınıf için özelliklerin istatistikleri\n\n        # Her sınıf için:\n        for c in self.classes:\n            X_c = X[y == c]  # Sadece o sınıfa ait veriler\n            self.class_probs[c] = len(X_c) / len(y)  # Sınıfın olasılığı (P(c))\n\n            # Her özellik için ortalama ve standart sapma hesapla\n            self.feature_stats[c] = {\n                'mean': X_c.mean(axis=0),  # Özelliklerin ortalamaları\n                'std': X_c.std(axis=0)  # Özelliklerin standart sapmaları\n            }\n\n    def predict(self, X):\n        predictions = []\n        \n        # Her bir test örneği için:\n        for x in X:\n            class_probs = {}\n            \n            # Her sınıf için olasılığı hesapla\n            for c in self.classes:\n                prob = np.log(self.class_probs[c])  # P(c) olasılığının log'u\n\n                # Her özellik için Gaussian olasılığını hesapla\n                for i in range(len(x)):\n                    mean = self.feature_stats[c]['mean'][i]\n                    std = self.feature_stats[c]['std'][i]\n                    \n                    # Gaussian dağılımının olasılık fonksiyonu\n                    gaussian_prob = (1 / (np.sqrt(2 * np.pi) * std)) * np.exp(-0.5 * ((x[i] - mean) / std) ** 2)\n                    \n                    # Bu özelliğin olasılığının log'unu al\n                    prob += np.log(gaussian_prob)\n\n                class_probs[c] = prob\n\n            # En yüksek olasılığa sahip sınıfı seç\n            predictions.append(max(class_probs, key=class_probs.get))\n        \n        return np.array(predictions)\n",
      "metadata": {
        "trusted": true
      },
      "outputs": [],
      "execution_count": 22
    },
    {
      "id": "16be61d0-95f3-4a62-b31d-8ec931439054",
      "cell_type": "code",
      "source": "import time\ncustom_model = NaiveBayesCustom()\nstart_time = time.time()  \ncustom_model.fit(X, y)\nfit_time = time.time() - start_time  \nprint(f\"Model eğitim süresi: {fit_time:.4f} saniye\")",
      "metadata": {
        "trusted": true
      },
      "outputs": [
        {
          "name": "stdout",
          "output_type": "stream",
          "text": "Model eğitim süresi: 0.0000 saniye\n"
        }
      ],
      "execution_count": 23
    },
    {
      "id": "f2c71443-d1f7-4578-af3d-bcec4ffa6f0c",
      "cell_type": "code",
      "source": "start_time = time.time()\ny_pred_custom = custom_model.predict(X)\npredict_time = time.time() - start_time\nprint(f\"Model test süresi: {predict_time:.4f} saniye\")",
      "metadata": {
        "trusted": true
      },
      "outputs": [
        {
          "name": "stdout",
          "output_type": "stream",
          "text": "Model test süresi: 0.0110 saniye\n"
        }
      ],
      "execution_count": 24
    },
    {
      "id": "7c6c9de9-5e01-42cc-97b3-7ab6252fb447",
      "cell_type": "code",
      "source": "from sklearn.metrics import accuracy_score, confusion_matrix\n\n# Doğruluk oranı\naccuracy_custom = accuracy_score(y, y_pred_custom)\nprint(\"Doğruluk Oranı:\", accuracy_custom)\n\n# Karmaşıklık matrisi\ncm_custom = confusion_matrix(y, y_pred_custom)\nprint(\"Karmaşıklık Matrisi:\\n\", cm_custom)\n",
      "metadata": {
        "trusted": true
      },
      "outputs": [
        {
          "name": "stdout",
          "output_type": "stream",
          "text": "Doğruluk Oranı: 0.895\nKarmaşıklık Matrisi:\n [[239  18]\n [ 24 119]]\n"
        }
      ],
      "execution_count": 25
    },
    {
      "id": "4e482a64-6af0-41ec-a1e9-015aa8b1b6db",
      "cell_type": "code",
      "source": "import matplotlib.pyplot as plt\nimport numpy as np\n\n# Örnek karmaşıklık matrisi (gerçek ve tahmin edilen sonuçlar)\ncm_custom = np.array([[100, 10], [5, 200]])\n\n# Karmaşıklık matrisini çizme\nfig, ax = plt.subplots()\ncax = ax.matshow(cm_custom, cmap=\"Blues\")\n\n# Başlık ve etiketler\nplt.title('Confusion Matrix (Manual Naive Bayes)')\nplt.xlabel('Predicted')\nplt.ylabel('True')\n\n# Değerler üzerine yazdırma\nfor (i, j), value in np.ndenumerate(cm_custom):\n    ax.text(j, i, str(value), ha='center', va='center', color='black')\n\n# Renk çubuğu ekleme\nfig.colorbar(cax)\n\n# Grafik gösterimi\nplt.show()\n",
      "metadata": {
        "trusted": true
      },
      "outputs": [
        {
          "output_type": "display_data",
          "data": {
            "text/plain": "<Figure size 640x480 with 2 Axes>",
            "image/png": "[encoded data removed]"
          },
          "metadata": {}
        }
      ],
      "execution_count": 33
    },
    {
      "id": "8ef11096-5013-40e5-ad7b-649bc8f4218c",
      "cell_type": "code",
      "source": "",
      "metadata": {
        "trusted": true
      },
      "outputs": [],
      "execution_count": null
    }
  ]
}